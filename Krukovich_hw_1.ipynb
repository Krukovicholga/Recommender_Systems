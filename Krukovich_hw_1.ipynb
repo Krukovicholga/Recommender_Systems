{
 "cells": [
  {
   "cell_type": "markdown",
   "metadata": {},
   "source": [
    "1. Сравните метрики hit_rate@k, precision@k.   \n",
    "Какую метрику использовать предпочтительно и почему?  \n",
    "Приведите пример 2-3 задач (опишите, что является клиентом, что товаром), в которой более уместно использовать метрику hit_rate?\n"
   ]
  },
  {
   "cell_type": "markdown",
   "metadata": {},
   "source": [
    "Hit_rate@k - был ли хотя бы один релевантный товар среди k рекомендованных.\n",
    "Значение 1, если порекомендовали удачно и 0, если неудачно. \n",
    "Метрика неинформативна, тк всего 2 значения 0 или 1.\n",
    "Примеры:\n",
    "1. покупатель добавил или не добавил предложенный товар в избранное.\n",
    "2. юзер просмотрел или не просмотрел видео из трендов на youtube.\n",
    "3. покупатель заказал или не заказал блюдо из рекомендованных.\n",
    "во всех этих случаях клиент- это челоловек, пользующийся сервисом.\n",
    "\n",
    "Precision@k - доля релевантных товаров среди k рекомендованных. Более информативна, чем hit_rate@k, но имеет минус:\n",
    "не учитывает позиции релевантных документов.\n"
   ]
  },
  {
   "cell_type": "markdown",
   "metadata": {},
   "source": [
    "2. В метрике NDCG@k мы используем логарифм в знаменателе. Как Вы думаете, почему именно логарифм? Какую функцию можно использовать вместо логарифма? Привидите пример метрик/подходов к предобработке данных/функций ошибок в ML, где также в  логарифм.\n",
    "\n"
   ]
  },
  {
   "cell_type": "markdown",
   "metadata": {},
   "source": [
    "Знаменатель c логарифмом, штрафует за то, где именно находится документ.\n",
    "Если документ очень релевантен, но находится на слишком далекой от верха списка позиции,\n",
    "штраф будет большим.\n",
    "Если документ релевантен и находится вверху списка, штраф будет маленьким.\n",
    "Данная метрика учитывает и релевантность и позицию документа.\n",
    "\n",
    "Пример метрик/подходов к предобработке данных/функций ошибок в ML, где также в логарифм:\n",
    "Log Loss"
   ]
  },
  {
   "cell_type": "markdown",
   "metadata": {},
   "source": [
    "3. Какие еще метрики (Вы можете вспомнить уже пройденные Вами или посмотреть в интернете) могут использоваться для рекомендательных систем (приведите примеры метрики **и чем являются интеракции**, чтобы она могла быть использована)."
   ]
  },
  {
   "cell_type": "markdown",
   "metadata": {},
   "source": [
    "Метрики на основе каскадной модели поведения:\n",
    "Изучение предложенных пользователю элементов происходит последовательно и вероятность просмотра элемента зависит от релевантности предыдущих называются каскадными.\n",
    "\n",
    "PFound\n",
    "Предположим, что мы отсортировали n документов с известными оценками релевантности по запросу в каком-то порядке. \n",
    "Значение метрики pfound будет оценкой вероятности найтирелевантный результат в нашей модели.\n"
   ]
  },
  {
   "cell_type": "markdown",
   "metadata": {},
   "source": [
    "4. boughted = [1, 3, 5, 7, 9, 11]  \n",
    "recommended = [2, 5, 7, 4, 11, 9, 8, 10, 12, 3]  \n",
    "Посчитайте на этих данных pr@8, rec@8, AP@8, NDCG@8, MRR@8,  \n",
    "Сначала поссчитайет \"руками\", а затем подтвердите рассчеты с помощью функций (некоторые были на семинаре, некоторые нужно будут написать самостоятельно)\n",
    "\n",
    "IDCG должен считаться для всех 8 позиций рекомендаций"
   ]
  },
  {
   "cell_type": "markdown",
   "metadata": {},
   "source": [
    "**Пример выполнения 4го задания**\n",
    "\n",
    "MSE на  \n",
    "$y = [0, 2]$  \n",
    "$y_{pred} = [1, 2]$\n",
    "\n",
    "MSE = $0.5*((0 - 1)^2 + (2-2)^2) = 0.5$ "
   ]
  },
  {
   "cell_type": "code",
   "execution_count": 4,
   "metadata": {},
   "outputs": [
    {
     "data": {
      "text/plain": [
       "0.5"
      ]
     },
     "execution_count": 4,
     "metadata": {},
     "output_type": "execute_result"
    }
   ],
   "source": [
    "import numpy as np\n",
    "((np.array([0, 2]) - np.array([1, 2]))**2).mean()"
   ]
  },
  {
   "cell_type": "code",
   "execution_count": 1,
   "metadata": {},
   "outputs": [],
   "source": [
    "import pandas as pd\n",
    "import numpy as np"
   ]
  },
  {
   "cell_type": "code",
   "execution_count": 2,
   "metadata": {},
   "outputs": [],
   "source": [
    "recommended_list = [2, 5, 7, 4, 11, 9, 8, 10, 12, 3] #id товаров\n",
    "bought_list = [1, 3, 5, 7, 9, 11]\n"
   ]
  },
  {
   "cell_type": "markdown",
   "metadata": {},
   "source": [
    "**PR@8**"
   ]
  },
  {
   "cell_type": "code",
   "execution_count": 9,
   "metadata": {},
   "outputs": [
    {
     "data": {
      "text/plain": [
       "0.5"
      ]
     },
     "execution_count": 9,
     "metadata": {},
     "output_type": "execute_result"
    }
   ],
   "source": [
    "PR_8= (0 + 1 + 1 + 0 + 1 + 1 + 0 + 0 )/ (1 *8)\n",
    "PR_8"
   ]
  },
  {
   "cell_type": "code",
   "execution_count": 4,
   "metadata": {},
   "outputs": [],
   "source": [
    "def precision_at_k(recommended_list, bought_list, k):\n",
    "    \n",
    "    bought_list = np.array(bought_list)\n",
    "    recommended_list = np.array(recommended_list)\n",
    "    \n",
    "    bought_list = bought_list  # Тут нет [:k] !!\n",
    "    recommended_list = recommended_list[:k]\n",
    "    \n",
    "    flags = np.isin(bought_list, recommended_list)\n",
    "    precision = flags.sum() / len(recommended_list)\n",
    "    \n",
    "    \n",
    "    return precision"
   ]
  },
  {
   "cell_type": "code",
   "execution_count": 5,
   "metadata": {},
   "outputs": [
    {
     "data": {
      "text/plain": [
       "0.5"
      ]
     },
     "execution_count": 5,
     "metadata": {},
     "output_type": "execute_result"
    }
   ],
   "source": [
    "precision_at_k(recommended_list, bought_list, k=8)"
   ]
  },
  {
   "cell_type": "markdown",
   "metadata": {},
   "source": [
    "**rec@8**"
   ]
  },
  {
   "cell_type": "code",
   "execution_count": 29,
   "metadata": {},
   "outputs": [
    {
     "data": {
      "text/plain": [
       "0.6666666666666666"
      ]
     },
     "execution_count": 29,
     "metadata": {},
     "output_type": "execute_result"
    }
   ],
   "source": [
    "rec_8= (0 + 0 + 1 + 1 + 1 + 1)/(1*6)\n",
    "rec_8"
   ]
  },
  {
   "cell_type": "code",
   "execution_count": 31,
   "metadata": {},
   "outputs": [],
   "source": [
    "def recall_at_k(recommended_list, bought_list, k):\n",
    "    bought_list = np.array(bought_list)\n",
    "    recommended_list = np.array(recommended_list)[:k]\n",
    "    \n",
    "    flags = np.isin(bought_list, recommended_list)\n",
    "    \n",
    "    recall = flags.sum() / len(bought_list)\n",
    "\n",
    "    return recall\n"
   ]
  },
  {
   "cell_type": "code",
   "execution_count": 32,
   "metadata": {},
   "outputs": [
    {
     "data": {
      "text/plain": [
       "0.6666666666666666"
      ]
     },
     "execution_count": 32,
     "metadata": {},
     "output_type": "execute_result"
    }
   ],
   "source": [
    "recall_at_k(recommended_list, bought_list, 8)"
   ]
  },
  {
   "cell_type": "markdown",
   "metadata": {},
   "source": [
    "**AP@8**"
   ]
  },
  {
   "cell_type": "code",
   "execution_count": 43,
   "metadata": {},
   "outputs": [
    {
     "data": {
      "text/plain": [
       "0.30416666666666664"
      ]
     },
     "execution_count": 43,
     "metadata": {},
     "output_type": "execute_result"
    }
   ],
   "source": [
    "AP_8 = 1/8*(0 + 1/2 * 1 + 2/3 * 1 + 0 + 3/5 * 1 + 4/6 * 1 + 0 + 0)\n",
    "AP_8"
   ]
  },
  {
   "cell_type": "code",
   "execution_count": null,
   "metadata": {},
   "outputs": [],
   "source": [
    "\n",
    "# [1, 3, 5, 7, 9, 11]  \n",
    "# [2, 5, 7, 4, 11, 9, 8, 10] \n",
    "\n",
    "ap_8 = ( 0 * 0/1 + 1 * 1/2 + 1 * 2/3 + 0 * 2/4 + 1 * 3/5 + 1 * 4/6 + 0 * 4/7 + 0 * 4/8) / 8 "
   ]
  },
  {
   "cell_type": "code",
   "execution_count": 35,
   "metadata": {},
   "outputs": [],
   "source": [
    "def ap_k(recommended_list, bought_list, k):\n",
    "    \n",
    "    bought_list = np.array(bought_list)\n",
    "    recommended_list = np.array(recommended_list)[:k]\n",
    "    \n",
    "    flags = np.isin(recommended_list, bought_list)\n",
    "    \n",
    "    if sum(flags) == 0:\n",
    "        return 0\n",
    "    \n",
    "    sum_ = 0\n",
    "    for i in range(1, k+1): \n",
    "        print(i)\n",
    "        \n",
    "        if flags[i-1] == True:\n",
    "            p_k = precision_at_k(recommended_list, bought_list, k=i)\n",
    "            print(p_k)\n",
    "            sum_ += p_k\n",
    "            \n",
    "    result = sum_ / len(flags)\n",
    "    \n",
    "    return result"
   ]
  },
  {
   "cell_type": "code",
   "execution_count": 37,
   "metadata": {},
   "outputs": [
    {
     "name": "stdout",
     "output_type": "stream",
     "text": [
      "1\n",
      "2\n",
      "0.5\n",
      "3\n",
      "0.6666666666666666\n",
      "4\n",
      "5\n",
      "0.6\n",
      "6\n",
      "0.6666666666666666\n",
      "7\n",
      "8\n"
     ]
    },
    {
     "data": {
      "text/plain": [
       "0.30416666666666664"
      ]
     },
     "execution_count": 37,
     "metadata": {},
     "output_type": "execute_result"
    }
   ],
   "source": [
    "ap_k(recommended_list, bought_list, 8)"
   ]
  },
  {
   "cell_type": "markdown",
   "metadata": {},
   "source": [
    "**NDCG@8**\n",
    "Normalized discounted cumulative gain"
   ]
  },
  {
   "cell_type": "code",
   "execution_count": 49,
   "metadata": {},
   "outputs": [
    {
     "data": {
      "text/plain": [
       "0.30605738985992403"
      ]
     },
     "execution_count": 49,
     "metadata": {},
     "output_type": "execute_result"
    }
   ],
   "source": [
    "DCG = 1/8*(1/np.log2(2) + 1/np.log2(3) + 1/np.log2(5) + 1/ np.log2(6))\n",
    "DCG"
   ]
  },
  {
   "cell_type": "code",
   "execution_count": 155,
   "metadata": {},
   "outputs": [
    {
     "data": {
      "text/plain": [
       "0.5797499549150934"
      ]
     },
     "execution_count": 155,
     "metadata": {},
     "output_type": "execute_result"
    }
   ],
   "source": [
    "idealDCG = 1/8* (1/1 + 1/np.log2(2) + 1/np.log2(3) + 1/np.log2(4) + 1/np.log2(5) + 1/np.log2(6) + 1/np.log2(7) + 1/np.log2(8))\n",
    "idealDCG"
   ]
  },
  {
   "cell_type": "code",
   "execution_count": 101,
   "metadata": {},
   "outputs": [
    {
     "data": {
      "text/plain": [
       "0.5279127445637272"
      ]
     },
     "execution_count": 101,
     "metadata": {},
     "output_type": "execute_result"
    }
   ],
   "source": [
    "NDCG = DCG / idealDCG \n",
    "NDCG"
   ]
  },
  {
   "cell_type": "code",
   "execution_count": 153,
   "metadata": {},
   "outputs": [],
   "source": [
    "def NDCG_k(recommended_list, bought_list, k):\n",
    "    \n",
    "    bought_list = np.array(bought_list)\n",
    "    recommended_list = np.array(recommended_list)[:k]\n",
    "    \n",
    "    flags = np.isin(recommended_list, bought_list)\n",
    "    \n",
    "    if sum(flags) == 0:\n",
    "        return 0\n",
    "    \n",
    "    sum_ = 0\n",
    "    ideal_log = 0\n",
    "    log = 0\n",
    "    sum_ideal_log = 0\n",
    "    \n",
    "    for i in range(k):\n",
    "        if flags[i] == True or flags[i] == False:        \n",
    "            if  (i+1) <= 2:\n",
    "                ideal_log = 1\n",
    "                sum_ideal_log += ideal_log\n",
    "            else:\n",
    "                ideal_log = 1/np.log2(i+1)\n",
    "                sum_ideal_log += ideal_log\n",
    "            \n",
    "        if flags[i] == True:\n",
    "            if (i+1) <= 2:\n",
    "                log = 1\n",
    "                sum_+= log\n",
    "            else:\n",
    "                log = 1/np.log2(i+1)\n",
    "                sum_ += log\n",
    "\n",
    "        \n",
    "    DCG = 1/k * sum_\n",
    "    idealDCG = 1/k * sum_ideal_log\n",
    "    NDCG = DCG/ idealDCG\n",
    "    \n",
    "        \n",
    "    print(f'DCG: {DCG}')\n",
    "    print(f'idealDCG: {idealDCG}')\n",
    "    print(f'NDCG: {NDCG}')\n",
    "\n",
    "    \n",
    "    return NDCG"
   ]
  },
  {
   "cell_type": "code",
   "execution_count": 154,
   "metadata": {
    "scrolled": true
   },
   "outputs": [
    {
     "name": "stdout",
     "output_type": "stream",
     "text": [
      "DCG: 0.30605738985992403\n",
      "idealDCG: 0.5797499549150934\n",
      "NDCG: 0.5279127445637272\n"
     ]
    },
    {
     "data": {
      "text/plain": [
       "0.5279127445637272"
      ]
     },
     "execution_count": 154,
     "metadata": {},
     "output_type": "execute_result"
    }
   ],
   "source": [
    "NDCG_k(recommended_list, bought_list, 8)"
   ]
  },
  {
   "cell_type": "markdown",
   "metadata": {},
   "source": [
    "**MRR@8**\n",
    "Mean Reciprocal Rank"
   ]
  },
  {
   "cell_type": "code",
   "execution_count": 56,
   "metadata": {},
   "outputs": [
    {
     "data": {
      "text/plain": [
       "0.15"
      ]
     },
     "execution_count": 56,
     "metadata": {},
     "output_type": "execute_result"
    }
   ],
   "source": [
    "MRR_8 = 1/8 * (0 + 1/2 + 1/3 + 0 + 1/5 + 1/6 + 0 + 0)\n",
    "MRR_8"
   ]
  },
  {
   "cell_type": "code",
   "execution_count": 58,
   "metadata": {},
   "outputs": [],
   "source": [
    "def reciprocal_rank(recommended_list, bought_list, k):\n",
    "    ranks = 0.\n",
    "    \n",
    "    for i, item_rec in enumerate(recommended_list[:k]):\n",
    "        for item_bought in bought_list:\n",
    "    \n",
    "            if item_rec == item_bought:\n",
    "                ranks += 1 / (i+1)\n",
    "    \n",
    "    return ranks / len(recommended_list[:k])"
   ]
  },
  {
   "cell_type": "code",
   "execution_count": 59,
   "metadata": {},
   "outputs": [
    {
     "data": {
      "text/plain": [
       "0.15"
      ]
     },
     "execution_count": 59,
     "metadata": {},
     "output_type": "execute_result"
    }
   ],
   "source": [
    "reciprocal_rank(recommended_list, bought_list, 8)"
   ]
  },
  {
   "cell_type": "code",
   "execution_count": null,
   "metadata": {},
   "outputs": [],
   "source": []
  }
 ],
 "metadata": {
  "kernelspec": {
   "display_name": "Python 3",
   "language": "python",
   "name": "python3"
  },
  "language_info": {
   "codemirror_mode": {
    "name": "ipython",
    "version": 3
   },
   "file_extension": ".py",
   "mimetype": "text/x-python",
   "name": "python",
   "nbconvert_exporter": "python",
   "pygments_lexer": "ipython3",
   "version": "3.8.3"
  }
 },
 "nbformat": 4,
 "nbformat_minor": 2
}
